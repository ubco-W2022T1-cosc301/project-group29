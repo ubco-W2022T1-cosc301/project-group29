{
 "cells": [
  {
   "cell_type": "markdown",
   "metadata": {},
   "source": [
    "# CHI-CHENG IP"
   ]
  },
  {
   "cell_type": "markdown",
   "metadata": {},
   "source": [
    "## Research question/interests\n",
    "- How is the maximum temperature changed in the last ten years?\n",
    "- How is the minimum temperature changed in the last ten years?\n",
    "- How is the average rainfall amount changed in summer in the last ten years?\n",
    "- How is the average rainfall amount changed in winter in the last ten years?"
   ]
  },
  {
   "cell_type": "markdown",
   "metadata": {},
   "source": []
  }
 ],
 "metadata": {
  "kernelspec": {
   "display_name": "Python 3 (ipykernel)",
   "language": "python",
   "name": "python3"
  }
 },
 "nbformat": 4,
 "nbformat_minor": 4
}
