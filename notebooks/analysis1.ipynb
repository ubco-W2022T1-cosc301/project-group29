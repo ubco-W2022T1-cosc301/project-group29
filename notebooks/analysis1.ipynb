{
 "cells": [
  {
   "cell_type": "markdown",
   "metadata": {},
   "source": [
    "# Larry Gu"
   ]
  },
  {
   "cell_type": "markdown",
   "metadata": {},
   "source": [
    "## Research question/interests\n",
    "\n",
    "What will the average temperature be tomorrow?\n",
    "\n",
    "What will the average humidity be tomorrow?"
   ]
  },
  {
   "cell_type": "code",
   "execution_count": null,
   "metadata": {},
   "outputs": [],
   "source": [
    "import pandas as pd\n",
    "df = pd.read_csv('../data/raw/climate_data.csv')"
   ]
  },
  {
   "cell_type": "code",
   "execution_count": null,
   "metadata": {},
   "outputs": [
    {
     "name": "stdout",
     "output_type": "stream",
     "text": [
      "            Date  Average temperature (°F)  Average humidity (%)  \\\n",
      "0     2009-01-01                      37.8                  35.0   \n",
      "1     2009-01-02                      43.2                  32.0   \n",
      "2     2009-01-03                      25.7                  60.0   \n",
      "3     2009-01-04                       9.3                  67.0   \n",
      "4     2009-01-05                      23.5                  30.0   \n",
      "...          ...                       ...                   ...   \n",
      "3897  2020-07-24                      64.1                  62.0   \n",
      "3898  2020-07-25                      62.8                  60.0   \n",
      "3899  2020-07-26                      60.6                  68.0   \n",
      "3900  2020-07-27                      61.7                  64.0   \n",
      "3901  2020-07-28                      60.5                  61.0   \n",
      "\n",
      "      Average dewpoint (°F)  Average barometer (in)  Average windspeed (mph)  \\\n",
      "0                      12.7                    29.7                     26.4   \n",
      "1                      14.7                    29.5                     12.8   \n",
      "2                      12.7                    29.7                      8.3   \n",
      "3                       0.1                    30.4                      2.9   \n",
      "4                      -5.3                    29.9                     16.7   \n",
      "...                     ...                     ...                      ...   \n",
      "3897                   49.8                    29.6                      3.6   \n",
      "3898                   48.1                    29.7                      2.5   \n",
      "3899                   48.9                    29.8                      1.7   \n",
      "3900                   47.4                    29.9                      2.2   \n",
      "3901                   45.3                    29.7                      4.0   \n",
      "\n",
      "      Average gustspeed (mph)  Average direction (°deg)  \\\n",
      "0                        36.8                     274.0   \n",
      "1                        18.0                     240.0   \n",
      "2                        12.2                     290.0   \n",
      "3                         4.5                      47.0   \n",
      "4                        23.1                     265.0   \n",
      "...                       ...                       ...   \n",
      "3897                      5.8                     240.0   \n",
      "3898                      4.0                     242.0   \n",
      "3899                      2.9                     357.0   \n",
      "3900                      4.0                      66.0   \n",
      "3901                      6.2                     248.0   \n",
      "\n",
      "      Rainfall for month (in)  Rainfall for year (in)  ...  \\\n",
      "0                        0.00                    0.00  ...   \n",
      "1                        0.00                    0.00  ...   \n",
      "2                        0.00                    0.00  ...   \n",
      "3                        0.00                    0.00  ...   \n",
      "4                        0.00                    0.00  ...   \n",
      "...                       ...                     ...  ...   \n",
      "3897                     0.24                    4.38  ...   \n",
      "3898                     0.33                    4.47  ...   \n",
      "3899                     0.33                    4.47  ...   \n",
      "3900                     0.33                    4.47  ...   \n",
      "3901                     0.35                    4.49  ...   \n",
      "\n",
      "      Maximum humidity (%)  Minimum humidity (%)  Maximum pressure  \\\n",
      "0                      4.0                  27.0            29.762   \n",
      "1                      4.0                  16.0            29.669   \n",
      "2                      8.0                  35.0            30.232   \n",
      "3                      7.0                  35.0            30.566   \n",
      "4                      5.0                  13.0            30.233   \n",
      "...                    ...                   ...               ...   \n",
      "3897                  86.0                  35.0            29.686   \n",
      "3898                  90.0                  36.0            29.781   \n",
      "3899                  90.0                  40.0            29.930   \n",
      "3900                  96.0                  35.0            29.941   \n",
      "3901                  94.0                  35.0            29.792   \n",
      "\n",
      "      Minimum pressure  Maximum windspeed (mph)  Maximum gust speed (mph)  \\\n",
      "0               29.596                     41.4                      59.0   \n",
      "1               29.268                     35.7                      51.0   \n",
      "2               29.260                     25.3                      38.0   \n",
      "3               30.227                     12.7                      20.0   \n",
      "4               29.568                     38.0                      53.0   \n",
      "...                ...                      ...                       ...   \n",
      "3897            29.577                     15.0                      25.3   \n",
      "3898            29.645                      8.1                      17.3   \n",
      "3899            29.745                     11.5                      15.0   \n",
      "3900            29.781                     13.8                      18.4   \n",
      "3901            29.675                     17.3                      26.5   \n",
      "\n",
      "      Maximum heat index (°F)       Date1  Month  diff_pressure  \n",
      "0                        40.0  2009-01-01      1          0.166  \n",
      "1                        52.0  2009-01-02      1          0.401  \n",
      "2                        41.0  2009-01-03      1          0.972  \n",
      "3                        32.0  2009-01-04      1          0.339  \n",
      "4                        32.0  2009-01-05      1          0.665  \n",
      "...                       ...         ...    ...            ...  \n",
      "3897                     77.4  2020-07-24      7          0.109  \n",
      "3898                     77.5  2020-07-25      7          0.136  \n",
      "3899                     77.5  2020-07-26      7          0.185  \n",
      "3900                     78.2  2020-07-27      7          0.160  \n",
      "3901                     77.6  2020-07-28      7          0.117  \n",
      "\n",
      "[3902 rows x 23 columns]\n"
     ]
    }
   ],
   "source": [
    "print(df)"
   ]
  },
  {
   "cell_type": "code",
   "execution_count": null,
   "metadata": {},
   "outputs": [],
   "source": []
  }
 ],
 "metadata": {
  "kernelspec": {
   "display_name": "Python 3 (ipykernel)",
   "language": "python",
   "name": "python3"
  }
 },
 "nbformat": 4,
 "nbformat_minor": 4
}
