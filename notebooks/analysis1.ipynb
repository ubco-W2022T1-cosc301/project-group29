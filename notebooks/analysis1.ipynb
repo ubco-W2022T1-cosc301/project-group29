{
 "cells": [
  {
   "cell_type": "markdown",
   "metadata": {},
   "source": [
    "# Larry Gu"
   ]
  },
  {
   "cell_type": "markdown",
   "metadata": {},
   "source": [
    "## Research question/interests\n",
    "According to NOAA's National Weather Service's [article](https://w1.weather.gov/glossary/index.php?word=dew+point)\n",
    "\n",
    "- Dew Point:\n",
    "(Abbrev. DWPT) - A measure of atmospheric moisture. It is the temperature to which air must be cooled in order to reach saturation (assuming air pressure and moisture content are constant). A higher dew point indicates more moisture present in the air. It is sometimes referred to as Dew Point Temperature, and sometimes written as one word (Dewpoint).\n",
    "- Dew Point Depression:\n",
    "The difference in degrees between the air temperature and the dew point.\n",
    "\n",
    "\n",
    "Concerned for weather changes, I picked a data set which records weather statistics from Estes Park, Colorado over ten years.I will attempt to spot the existence and regularity of worrying climate change by studying dew point.\n",
    "\n",
    "1. Is there drastic changes of dewpoint over years? If there is, in which month is that occuring and why?\n",
    "2. How does dewpoint depression change over years? If it is increasing, what other changes in climate factors does it correspond to?"
   ]
  },
  {
   "cell_type": "markdown",
   "metadata": {},
   "source": [
    "# Milestone 3"
   ]
  },
  {
   "cell_type": "markdown",
   "metadata": {},
   "source": [
    "## EDA"
   ]
  },
  {
   "cell_type": "code",
   "execution_count": null,
   "metadata": {},
   "outputs": [],
   "source": [
    "import pandas as pd\n",
    "import numpy as np\n",
    "import matplotlib.pyplot as plt\n",
    "import seaborn as sns\n",
    "import project_functions1 as pf1"
   ]
  },
  {
   "cell_type": "code",
   "execution_count": null,
   "metadata": {},
   "outputs": [],
   "source": [
    "path = '../data/raw/climate_data.csv'\n",
    "df = pd.read_csv(path)"
   ]
  },
  {
   "cell_type": "markdown",
   "metadata": {},
   "source": [
    "First we load the dataset from the folder."
   ]
  },
  {
   "cell_type": "code",
   "execution_count": null,
   "metadata": {},
   "outputs": [
    {
     "name": "stdout",
     "output_type": "stream",
     "text": [
      "(3902, 23)\n"
     ]
    },
    {
     "data": {
      "text/html": [
       "<div>\n",
       "<style scoped>\n",
       "    .dataframe tbody tr th:only-of-type {\n",
       "        vertical-align: middle;\n",
       "    }\n",
       "\n",
       "    .dataframe tbody tr th {\n",
       "        vertical-align: top;\n",
       "    }\n",
       "\n",
       "    .dataframe thead th {\n",
       "        text-align: right;\n",
       "    }\n",
       "</style>\n",
       "<table border=\"1\" class=\"dataframe\">\n",
       "  <thead>\n",
       "    <tr style=\"text-align: right;\">\n",
       "      <th></th>\n",
       "      <th>Date</th>\n",
       "      <th>Average temperature (°F)</th>\n",
       "      <th>Average humidity (%)</th>\n",
       "      <th>Average dewpoint (°F)</th>\n",
       "      <th>Average barometer (in)</th>\n",
       "      <th>Average windspeed (mph)</th>\n",
       "      <th>Average gustspeed (mph)</th>\n",
       "      <th>Average direction (°deg)</th>\n",
       "      <th>Rainfall for month (in)</th>\n",
       "      <th>Rainfall for year (in)</th>\n",
       "      <th>...</th>\n",
       "      <th>Maximum humidity (%)</th>\n",
       "      <th>Minimum humidity (%)</th>\n",
       "      <th>Maximum pressure</th>\n",
       "      <th>Minimum pressure</th>\n",
       "      <th>Maximum windspeed (mph)</th>\n",
       "      <th>Maximum gust speed (mph)</th>\n",
       "      <th>Maximum heat index (°F)</th>\n",
       "      <th>Date1</th>\n",
       "      <th>Month</th>\n",
       "      <th>diff_pressure</th>\n",
       "    </tr>\n",
       "  </thead>\n",
       "  <tbody>\n",
       "    <tr>\n",
       "      <th>0</th>\n",
       "      <td>2009-01-01</td>\n",
       "      <td>37.8</td>\n",
       "      <td>35.0</td>\n",
       "      <td>12.7</td>\n",
       "      <td>29.7</td>\n",
       "      <td>26.4</td>\n",
       "      <td>36.8</td>\n",
       "      <td>274.0</td>\n",
       "      <td>0.0</td>\n",
       "      <td>0.0</td>\n",
       "      <td>...</td>\n",
       "      <td>4.0</td>\n",
       "      <td>27.0</td>\n",
       "      <td>29.762</td>\n",
       "      <td>29.596</td>\n",
       "      <td>41.4</td>\n",
       "      <td>59.0</td>\n",
       "      <td>40.0</td>\n",
       "      <td>2009-01-01</td>\n",
       "      <td>1</td>\n",
       "      <td>0.166</td>\n",
       "    </tr>\n",
       "    <tr>\n",
       "      <th>1</th>\n",
       "      <td>2009-01-02</td>\n",
       "      <td>43.2</td>\n",
       "      <td>32.0</td>\n",
       "      <td>14.7</td>\n",
       "      <td>29.5</td>\n",
       "      <td>12.8</td>\n",
       "      <td>18.0</td>\n",
       "      <td>240.0</td>\n",
       "      <td>0.0</td>\n",
       "      <td>0.0</td>\n",
       "      <td>...</td>\n",
       "      <td>4.0</td>\n",
       "      <td>16.0</td>\n",
       "      <td>29.669</td>\n",
       "      <td>29.268</td>\n",
       "      <td>35.7</td>\n",
       "      <td>51.0</td>\n",
       "      <td>52.0</td>\n",
       "      <td>2009-01-02</td>\n",
       "      <td>1</td>\n",
       "      <td>0.401</td>\n",
       "    </tr>\n",
       "    <tr>\n",
       "      <th>2</th>\n",
       "      <td>2009-01-03</td>\n",
       "      <td>25.7</td>\n",
       "      <td>60.0</td>\n",
       "      <td>12.7</td>\n",
       "      <td>29.7</td>\n",
       "      <td>8.3</td>\n",
       "      <td>12.2</td>\n",
       "      <td>290.0</td>\n",
       "      <td>0.0</td>\n",
       "      <td>0.0</td>\n",
       "      <td>...</td>\n",
       "      <td>8.0</td>\n",
       "      <td>35.0</td>\n",
       "      <td>30.232</td>\n",
       "      <td>29.260</td>\n",
       "      <td>25.3</td>\n",
       "      <td>38.0</td>\n",
       "      <td>41.0</td>\n",
       "      <td>2009-01-03</td>\n",
       "      <td>1</td>\n",
       "      <td>0.972</td>\n",
       "    </tr>\n",
       "    <tr>\n",
       "      <th>3</th>\n",
       "      <td>2009-01-04</td>\n",
       "      <td>9.3</td>\n",
       "      <td>67.0</td>\n",
       "      <td>0.1</td>\n",
       "      <td>30.4</td>\n",
       "      <td>2.9</td>\n",
       "      <td>4.5</td>\n",
       "      <td>47.0</td>\n",
       "      <td>0.0</td>\n",
       "      <td>0.0</td>\n",
       "      <td>...</td>\n",
       "      <td>7.0</td>\n",
       "      <td>35.0</td>\n",
       "      <td>30.566</td>\n",
       "      <td>30.227</td>\n",
       "      <td>12.7</td>\n",
       "      <td>20.0</td>\n",
       "      <td>32.0</td>\n",
       "      <td>2009-01-04</td>\n",
       "      <td>1</td>\n",
       "      <td>0.339</td>\n",
       "    </tr>\n",
       "    <tr>\n",
       "      <th>4</th>\n",
       "      <td>2009-01-05</td>\n",
       "      <td>23.5</td>\n",
       "      <td>30.0</td>\n",
       "      <td>-5.3</td>\n",
       "      <td>29.9</td>\n",
       "      <td>16.7</td>\n",
       "      <td>23.1</td>\n",
       "      <td>265.0</td>\n",
       "      <td>0.0</td>\n",
       "      <td>0.0</td>\n",
       "      <td>...</td>\n",
       "      <td>5.0</td>\n",
       "      <td>13.0</td>\n",
       "      <td>30.233</td>\n",
       "      <td>29.568</td>\n",
       "      <td>38.0</td>\n",
       "      <td>53.0</td>\n",
       "      <td>32.0</td>\n",
       "      <td>2009-01-05</td>\n",
       "      <td>1</td>\n",
       "      <td>0.665</td>\n",
       "    </tr>\n",
       "  </tbody>\n",
       "</table>\n",
       "<p>5 rows × 23 columns</p>\n",
       "</div>"
      ],
      "text/plain": [
       "         Date  Average temperature (°F)  Average humidity (%)  \\\n",
       "0  2009-01-01                      37.8                  35.0   \n",
       "1  2009-01-02                      43.2                  32.0   \n",
       "2  2009-01-03                      25.7                  60.0   \n",
       "3  2009-01-04                       9.3                  67.0   \n",
       "4  2009-01-05                      23.5                  30.0   \n",
       "\n",
       "   Average dewpoint (°F)  Average barometer (in)  Average windspeed (mph)  \\\n",
       "0                   12.7                    29.7                     26.4   \n",
       "1                   14.7                    29.5                     12.8   \n",
       "2                   12.7                    29.7                      8.3   \n",
       "3                    0.1                    30.4                      2.9   \n",
       "4                   -5.3                    29.9                     16.7   \n",
       "\n",
       "   Average gustspeed (mph)  Average direction (°deg)  Rainfall for month (in)  \\\n",
       "0                     36.8                     274.0                      0.0   \n",
       "1                     18.0                     240.0                      0.0   \n",
       "2                     12.2                     290.0                      0.0   \n",
       "3                      4.5                      47.0                      0.0   \n",
       "4                     23.1                     265.0                      0.0   \n",
       "\n",
       "   Rainfall for year (in)  ...  Maximum humidity (%)  Minimum humidity (%)  \\\n",
       "0                     0.0  ...                   4.0                  27.0   \n",
       "1                     0.0  ...                   4.0                  16.0   \n",
       "2                     0.0  ...                   8.0                  35.0   \n",
       "3                     0.0  ...                   7.0                  35.0   \n",
       "4                     0.0  ...                   5.0                  13.0   \n",
       "\n",
       "   Maximum pressure  Minimum pressure  Maximum windspeed (mph)  \\\n",
       "0            29.762            29.596                     41.4   \n",
       "1            29.669            29.268                     35.7   \n",
       "2            30.232            29.260                     25.3   \n",
       "3            30.566            30.227                     12.7   \n",
       "4            30.233            29.568                     38.0   \n",
       "\n",
       "   Maximum gust speed (mph)  Maximum heat index (°F)       Date1  Month  \\\n",
       "0                      59.0                     40.0  2009-01-01      1   \n",
       "1                      51.0                     52.0  2009-01-02      1   \n",
       "2                      38.0                     41.0  2009-01-03      1   \n",
       "3                      20.0                     32.0  2009-01-04      1   \n",
       "4                      53.0                     32.0  2009-01-05      1   \n",
       "\n",
       "   diff_pressure  \n",
       "0          0.166  \n",
       "1          0.401  \n",
       "2          0.972  \n",
       "3          0.339  \n",
       "4          0.665  \n",
       "\n",
       "[5 rows x 23 columns]"
      ]
     },
     "execution_count": null,
     "metadata": {},
     "output_type": "execute_result"
    }
   ],
   "source": [
    "print(df.shape)\n",
    "df.head()"
   ]
  },
  {
   "cell_type": "markdown",
   "metadata": {},
   "source": [
    "The dataset is 3902 rows by 23 columns. I notice that Date1 is purely redundant. I will remove this in the future. \n",
    "\n",
    "As columns in this dataframe have very long names, and many of them have spaces in between. It may cause trouble in EDA. So, I will update the column names data before I proceed."
   ]
  },
  {
   "cell_type": "code",
   "execution_count": null,
   "metadata": {},
   "outputs": [
    {
     "data": {
      "text/html": [
       "<div>\n",
       "<style scoped>\n",
       "    .dataframe tbody tr th:only-of-type {\n",
       "        vertical-align: middle;\n",
       "    }\n",
       "\n",
       "    .dataframe tbody tr th {\n",
       "        vertical-align: top;\n",
       "    }\n",
       "\n",
       "    .dataframe thead th {\n",
       "        text-align: right;\n",
       "    }\n",
       "</style>\n",
       "<table border=\"1\" class=\"dataframe\">\n",
       "  <thead>\n",
       "    <tr style=\"text-align: right;\">\n",
       "      <th></th>\n",
       "      <th>Date</th>\n",
       "      <th>avg_tem</th>\n",
       "      <th>avg_hum</th>\n",
       "      <th>avg_dew</th>\n",
       "      <th>avg_bar</th>\n",
       "      <th>avg_win</th>\n",
       "      <th>avg_gus</th>\n",
       "      <th>avg_dir</th>\n",
       "      <th>rfm</th>\n",
       "      <th>rfy</th>\n",
       "      <th>...</th>\n",
       "      <th>max_hum</th>\n",
       "      <th>min_hum</th>\n",
       "      <th>max_pre</th>\n",
       "      <th>min_pre</th>\n",
       "      <th>max_win</th>\n",
       "      <th>max_gus</th>\n",
       "      <th>max_hea</th>\n",
       "      <th>Date1</th>\n",
       "      <th>Month</th>\n",
       "      <th>dif_p</th>\n",
       "    </tr>\n",
       "  </thead>\n",
       "  <tbody>\n",
       "    <tr>\n",
       "      <th>0</th>\n",
       "      <td>2009-01-01</td>\n",
       "      <td>37.8</td>\n",
       "      <td>35.0</td>\n",
       "      <td>12.7</td>\n",
       "      <td>29.7</td>\n",
       "      <td>26.4</td>\n",
       "      <td>36.8</td>\n",
       "      <td>274.0</td>\n",
       "      <td>0.0</td>\n",
       "      <td>0.0</td>\n",
       "      <td>...</td>\n",
       "      <td>4.0</td>\n",
       "      <td>27.0</td>\n",
       "      <td>29.762</td>\n",
       "      <td>29.596</td>\n",
       "      <td>41.4</td>\n",
       "      <td>59.0</td>\n",
       "      <td>40.0</td>\n",
       "      <td>2009-01-01</td>\n",
       "      <td>1</td>\n",
       "      <td>0.166</td>\n",
       "    </tr>\n",
       "    <tr>\n",
       "      <th>1</th>\n",
       "      <td>2009-01-02</td>\n",
       "      <td>43.2</td>\n",
       "      <td>32.0</td>\n",
       "      <td>14.7</td>\n",
       "      <td>29.5</td>\n",
       "      <td>12.8</td>\n",
       "      <td>18.0</td>\n",
       "      <td>240.0</td>\n",
       "      <td>0.0</td>\n",
       "      <td>0.0</td>\n",
       "      <td>...</td>\n",
       "      <td>4.0</td>\n",
       "      <td>16.0</td>\n",
       "      <td>29.669</td>\n",
       "      <td>29.268</td>\n",
       "      <td>35.7</td>\n",
       "      <td>51.0</td>\n",
       "      <td>52.0</td>\n",
       "      <td>2009-01-02</td>\n",
       "      <td>1</td>\n",
       "      <td>0.401</td>\n",
       "    </tr>\n",
       "    <tr>\n",
       "      <th>2</th>\n",
       "      <td>2009-01-03</td>\n",
       "      <td>25.7</td>\n",
       "      <td>60.0</td>\n",
       "      <td>12.7</td>\n",
       "      <td>29.7</td>\n",
       "      <td>8.3</td>\n",
       "      <td>12.2</td>\n",
       "      <td>290.0</td>\n",
       "      <td>0.0</td>\n",
       "      <td>0.0</td>\n",
       "      <td>...</td>\n",
       "      <td>8.0</td>\n",
       "      <td>35.0</td>\n",
       "      <td>30.232</td>\n",
       "      <td>29.260</td>\n",
       "      <td>25.3</td>\n",
       "      <td>38.0</td>\n",
       "      <td>41.0</td>\n",
       "      <td>2009-01-03</td>\n",
       "      <td>1</td>\n",
       "      <td>0.972</td>\n",
       "    </tr>\n",
       "    <tr>\n",
       "      <th>3</th>\n",
       "      <td>2009-01-04</td>\n",
       "      <td>9.3</td>\n",
       "      <td>67.0</td>\n",
       "      <td>0.1</td>\n",
       "      <td>30.4</td>\n",
       "      <td>2.9</td>\n",
       "      <td>4.5</td>\n",
       "      <td>47.0</td>\n",
       "      <td>0.0</td>\n",
       "      <td>0.0</td>\n",
       "      <td>...</td>\n",
       "      <td>7.0</td>\n",
       "      <td>35.0</td>\n",
       "      <td>30.566</td>\n",
       "      <td>30.227</td>\n",
       "      <td>12.7</td>\n",
       "      <td>20.0</td>\n",
       "      <td>32.0</td>\n",
       "      <td>2009-01-04</td>\n",
       "      <td>1</td>\n",
       "      <td>0.339</td>\n",
       "    </tr>\n",
       "    <tr>\n",
       "      <th>4</th>\n",
       "      <td>2009-01-05</td>\n",
       "      <td>23.5</td>\n",
       "      <td>30.0</td>\n",
       "      <td>-5.3</td>\n",
       "      <td>29.9</td>\n",
       "      <td>16.7</td>\n",
       "      <td>23.1</td>\n",
       "      <td>265.0</td>\n",
       "      <td>0.0</td>\n",
       "      <td>0.0</td>\n",
       "      <td>...</td>\n",
       "      <td>5.0</td>\n",
       "      <td>13.0</td>\n",
       "      <td>30.233</td>\n",
       "      <td>29.568</td>\n",
       "      <td>38.0</td>\n",
       "      <td>53.0</td>\n",
       "      <td>32.0</td>\n",
       "      <td>2009-01-05</td>\n",
       "      <td>1</td>\n",
       "      <td>0.665</td>\n",
       "    </tr>\n",
       "  </tbody>\n",
       "</table>\n",
       "<p>5 rows × 23 columns</p>\n",
       "</div>"
      ],
      "text/plain": [
       "         Date  avg_tem  avg_hum  avg_dew  avg_bar  avg_win  avg_gus  avg_dir  \\\n",
       "0  2009-01-01     37.8     35.0     12.7     29.7     26.4     36.8    274.0   \n",
       "1  2009-01-02     43.2     32.0     14.7     29.5     12.8     18.0    240.0   \n",
       "2  2009-01-03     25.7     60.0     12.7     29.7      8.3     12.2    290.0   \n",
       "3  2009-01-04      9.3     67.0      0.1     30.4      2.9      4.5     47.0   \n",
       "4  2009-01-05     23.5     30.0     -5.3     29.9     16.7     23.1    265.0   \n",
       "\n",
       "   rfm  rfy  ...  max_hum  min_hum  max_pre  min_pre  max_win  max_gus  \\\n",
       "0  0.0  0.0  ...      4.0     27.0   29.762   29.596     41.4     59.0   \n",
       "1  0.0  0.0  ...      4.0     16.0   29.669   29.268     35.7     51.0   \n",
       "2  0.0  0.0  ...      8.0     35.0   30.232   29.260     25.3     38.0   \n",
       "3  0.0  0.0  ...      7.0     35.0   30.566   30.227     12.7     20.0   \n",
       "4  0.0  0.0  ...      5.0     13.0   30.233   29.568     38.0     53.0   \n",
       "\n",
       "   max_hea       Date1  Month  dif_p  \n",
       "0     40.0  2009-01-01      1  0.166  \n",
       "1     52.0  2009-01-02      1  0.401  \n",
       "2     41.0  2009-01-03      1  0.972  \n",
       "3     32.0  2009-01-04      1  0.339  \n",
       "4     32.0  2009-01-05      1  0.665  \n",
       "\n",
       "[5 rows x 23 columns]"
      ]
     },
     "execution_count": null,
     "metadata": {},
     "output_type": "execute_result"
    }
   ],
   "source": [
    "df_new = pf1.update_column(path)\n",
    "df_new.head()"
   ]
  },
  {
   "cell_type": "markdown",
   "metadata": {},
   "source": [
    "Now the column names are all updated according to this:\n",
    "\n",
    "      \"Average temperature (°F)\":\"avg_tem\",\n",
    "      \"Average humidity (%)\":\"avg_hum\",\n",
    "      \"Average dewpoint (°F)\":\"avg_dew\",\n",
    "      \"Average barometer (in)\":\"avg_bar\",\n",
    "      \"Average windspeed (mph)\":\"avg_win\",\n",
    "      \"Average gustspeed (mph)\":\"avg_gus\",\n",
    "      \"Average direction (°deg)\":\"avg_dir\",\n",
    "      \"Rainfall for month (in)\":\"rfm\",\n",
    "      \"Rainfall for year (in)\":\"rfy\",\n",
    "      \"Maximum rain per minute\":\"max_rai\",\n",
    "      \"Maximum temperature (°F)\":\"max_tem\",\n",
    "      \"Minimum temperature (°F)\":\"min_tem\",\n",
    "      \"Maximum humidity (%)\":\"max_hum\",\n",
    "      \"Minimum humidity (%)\":\"min_hum\",\n",
    "      \"Maximum pressure\":\"max_pre\",\n",
    "      \"Minimum pressure\":\"min_pre\",\n",
    "      \"Maximum windspeed (mph)\":\"max_win\",\n",
    "      \"Maximum gust speed (mph)\":\"max_gus\",\n",
    "      \"Maximum heat index (°F)\":\"max_hea\",\n",
    "      \"diff_pressure\":\"dif_p\"\n",
    "It will make code writing much easier. "
   ]
  },
  {
   "cell_type": "markdown",
   "metadata": {},
   "source": [
    "Before I invesigate how dewpoints change over years. I want to uncover dewpoint changing patterns over month."
   ]
  },
  {
   "cell_type": "code",
   "execution_count": null,
   "metadata": {},
   "outputs": [
    {
     "data": {
      "image/png": "[encoded data removed]",
      "text/plain": [
       "<Figure size 1080x504 with 1 Axes>"
      ]
     },
     "metadata": {
      "needs_background": "light"
     },
     "output_type": "display_data"
    }
   ],
   "source": [
    "df11=df_new.loc[lambda x: x.Date.str.contains(\"2009\")]\n",
    "\n",
    "plt.figure(figsize=(15,7))\n",
    "sns.stripplot(data=df11, x=\"avg_dew\", y=\"Month\").set(title='Average dewpoints seperated by month of Estes Park, Colorado, 2009')  \n",
    "# ax.tick_params(bottom=False)  # remove the ticks\n",
    "plt.show()"
   ]
  },
  {
   "cell_type": "code",
   "execution_count": null,
   "metadata": {},
   "outputs": [
    {
     "data": {
      "text/plain": [
       "<AxesSubplot:xlabel='avg_dew'>"
      ]
     },
     "execution_count": null,
     "metadata": {},
     "output_type": "execute_result"
    },
    {
     "data": {
      "image/png": "[encoded data removed]",
      "text/plain": [
       "<Figure size 432x288 with 1 Axes>"
      ]
     },
     "metadata": {
      "needs_background": "light"
     },
     "output_type": "display_data"
    }
   ],
   "source": [
    "sns.stripplot(data=df11,x=\"avg_dew\")"
   ]
  },
  {
   "cell_type": "markdown",
   "metadata": {},
   "source": [
    "Note that this data is from Estes Park, Colorado. I can see that dewpoints are higher in summer (June to August) and lower in winter (December to Feburary). I would like to investigate on how these value changes over different years. But now I will start investigating on factors that are related to average dewpoints."
   ]
  },
  {
   "cell_type": "code",
   "execution_count": null,
   "metadata": {},
   "outputs": [
    {
     "name": "stdout",
     "output_type": "stream",
     "text": [
      "               mean        std     min      max\n",
      "max_rai    0.000000   0.000000   0.000    0.000\n",
      "avg_bar   29.881420   0.250395  28.200   31.000\n",
      "max_pre   30.045451   0.258140  29.338   31.204\n",
      "dif_p      0.343829   0.407499   0.000   16.602\n",
      "min_pre   29.701622   0.451691  13.266   30.855\n",
      "rfm        0.451105   0.603462   0.000    4.480\n",
      "Month      6.395695   3.430231   1.000   12.000\n",
      "avg_win    5.758893   4.022485   0.000   26.400\n",
      "rfy        5.486171   4.534444   0.000   16.410\n",
      "max_win   19.840748  12.235410   0.000  181.700\n",
      "avg_gus   10.011968  14.117446   0.000  240.400\n",
      "min_tem   31.227524  14.124424 -27.700   65.700\n",
      "avg_dew   23.127037  14.634088 -22.200   55.100\n",
      "avg_tem   44.670733  15.326793 -12.100   76.300\n",
      "min_hum   26.016914  15.623870   0.000   90.000\n",
      "avg_hum   48.878011  17.438153   9.000   94.000\n",
      "max_tem   57.561661  17.755874  -6.100   92.700\n",
      "max_hea   58.086315  17.953453  -6.100   88.400\n",
      "max_hum   73.673757  20.380611   1.000  100.000\n",
      "max_gus   33.974910  38.632424   0.000  255.300\n",
      "avg_dir  216.037417  97.677761   0.000  360.000\n"
     ]
    }
   ],
   "source": [
    "describe_df = df_new.describe().T.sort_values(by=['std'])[['mean','std','min','max']]\n",
    "print(describe_df)"
   ]
  },
  {
   "cell_type": "markdown",
   "metadata": {},
   "source": [
    "I can see that the std of columns regarding gustspeed, humidity, and temperature are very close to average dewpoint. \n",
    "That suggests they may have similar levels of flucuations.\n",
    "I want further investigate on their relationship to avgerage dewpoint.\n",
    "\n",
    "Also maximum rain per minute is always 0, so for the future invesigation regarding this dataset, I will probably leave the rain data out in future data analysis."
   ]
  },
  {
   "cell_type": "code",
   "execution_count": null,
   "metadata": {},
   "outputs": [
    {
     "data": {
      "text/plain": [
       "<AxesSubplot:ylabel='Density'>"
      ]
     },
     "execution_count": null,
     "metadata": {},
     "output_type": "execute_result"
    },
    {
     "data": {
      "image/png": "[encoded data removed]",
      "text/plain": [
       "<Figure size 432x288 with 1 Axes>"
      ]
     },
     "metadata": {
      "needs_background": "light"
     },
     "output_type": "display_data"
    }
   ],
   "source": [
    "# sns.displot(data=df_new, x=\"avg_dew\")\n",
    "sns.kdeplot(data=df_new[[\"avg_gus\",\"min_tem\",\"avg_dew\",\"avg_tem\",\"min_hum\"]])"
   ]
  },
  {
   "cell_type": "markdown",
   "metadata": {},
   "source": [
    "From the five features that have std closet to average dewpoint. It is hard to say that average gustspeed is relatable to average dewpoint. I will focus on humidity and temperature from now on.\n",
    "\n",
    "Let's give average temperature a closer look first."
   ]
  },
  {
   "cell_type": "code",
   "execution_count": null,
   "metadata": {},
   "outputs": [
    {
     "data": {
      "text/plain": [
       "<AxesSubplot:xlabel='avg_dew', ylabel='avg_tem'>"
      ]
     },
     "execution_count": null,
     "metadata": {},
     "output_type": "execute_result"
    },
    {
     "data": {
      "image/png": "[encoded data removed]",
      "text/plain": [
       "<Figure size 432x288 with 1 Axes>"
      ]
     },
     "metadata": {
      "needs_background": "light"
     },
     "output_type": "display_data"
    }
   ],
   "source": [
    "sns.kdeplot(data=df_new, x=\"avg_dew\", y=\"avg_tem\",fill=True,thresh=0, levels=100 )"
   ]
  },
  {
   "cell_type": "markdown",
   "metadata": {},
   "source": [
    "Now lets give average humidity a try."
   ]
  },
  {
   "cell_type": "code",
   "execution_count": null,
   "metadata": {},
   "outputs": [
    {
     "data": {
      "text/plain": [
       "<AxesSubplot:xlabel='avg_dew', ylabel='avg_hum'>"
      ]
     },
     "execution_count": null,
     "metadata": {},
     "output_type": "execute_result"
    },
    {
     "data": {
      "image/png": "[encoded data removed]",
      "text/plain": [
       "<Figure size 432x288 with 1 Axes>"
      ]
     },
     "metadata": {
      "needs_background": "light"
     },
     "output_type": "display_data"
    }
   ],
   "source": [
    "sns.kdeplot(data=df_new, x=\"avg_dew\", y=\"avg_hum\",fill=True,thresh=0, levels=100 )"
   ]
  },
  {
   "cell_type": "markdown",
   "metadata": {},
   "source": [
    "The shape of both graphs are rather rounded and close to the center of the graphs.\n",
    "Suggesting that the all three distributions are close to normal distribution.\n",
    "It is interesting though, that there are two cluters on both graph (where the color of the area is darkest).\n",
    "It might suggest that during winter and summer, the values are relatively close to each other. But during intermediate periods, they both changes in the same direction."
   ]
  },
  {
   "cell_type": "markdown",
   "metadata": {},
   "source": [
    "## Data Analysis Pipeline"
   ]
  },
  {
   "cell_type": "markdown",
   "metadata": {},
   "source": [
    "First, as stated before, I will load the data with updated columns"
   ]
  },
  {
   "cell_type": "code",
   "execution_count": null,
   "metadata": {},
   "outputs": [
    {
     "name": "stdout",
     "output_type": "stream",
     "text": [
      "         Date  avg_tem  avg_hum  avg_dew  avg_bar  avg_win  avg_gus  avg_dir  \\\n",
      "0  2009-01-01     37.8     35.0     12.7     29.7     26.4     36.8    274.0   \n",
      "1  2009-01-02     43.2     32.0     14.7     29.5     12.8     18.0    240.0   \n",
      "2  2009-01-03     25.7     60.0     12.7     29.7      8.3     12.2    290.0   \n",
      "3  2009-01-04      9.3     67.0      0.1     30.4      2.9      4.5     47.0   \n",
      "4  2009-01-05     23.5     30.0     -5.3     29.9     16.7     23.1    265.0   \n",
      "\n",
      "   rfm  rfy  ...  max_hum  min_hum  max_pre  min_pre  max_win  max_gus  \\\n",
      "0  0.0  0.0  ...      4.0     27.0   29.762   29.596     41.4     59.0   \n",
      "1  0.0  0.0  ...      4.0     16.0   29.669   29.268     35.7     51.0   \n",
      "2  0.0  0.0  ...      8.0     35.0   30.232   29.260     25.3     38.0   \n",
      "3  0.0  0.0  ...      7.0     35.0   30.566   30.227     12.7     20.0   \n",
      "4  0.0  0.0  ...      5.0     13.0   30.233   29.568     38.0     53.0   \n",
      "\n",
      "   max_hea       Date1  Month  dif_p  \n",
      "0     40.0  2009-01-01      1  0.166  \n",
      "1     52.0  2009-01-02      1  0.401  \n",
      "2     41.0  2009-01-03      1  0.972  \n",
      "3     32.0  2009-01-04      1  0.339  \n",
      "4     32.0  2009-01-05      1  0.665  \n",
      "\n",
      "[5 rows x 23 columns]\n"
     ]
    }
   ],
   "source": [
    "df_2 = pf1.update_column(path)\n",
    "print(df_2.head())"
   ]
  },
  {
   "cell_type": "markdown",
   "metadata": {},
   "source": [
    "As planned, I will first remove Date1 as it is purely redundant. And remove rfm and rfy as the place does not rain. (And other data that I am not using.)"
   ]
  },
  {
   "cell_type": "code",
   "execution_count": null,
   "metadata": {},
   "outputs": [
    {
     "data": {
      "text/html": [
       "<div>\n",
       "<style scoped>\n",
       "    .dataframe tbody tr th:only-of-type {\n",
       "        vertical-align: middle;\n",
       "    }\n",
       "\n",
       "    .dataframe tbody tr th {\n",
       "        vertical-align: top;\n",
       "    }\n",
       "\n",
       "    .dataframe thead th {\n",
       "        text-align: right;\n",
       "    }\n",
       "</style>\n",
       "<table border=\"1\" class=\"dataframe\">\n",
       "  <thead>\n",
       "    <tr style=\"text-align: right;\">\n",
       "      <th></th>\n",
       "      <th>Date</th>\n",
       "      <th>avg_tem</th>\n",
       "      <th>avg_hum</th>\n",
       "      <th>avg_dew</th>\n",
       "      <th>max_tem</th>\n",
       "      <th>min_tem</th>\n",
       "      <th>max_hum</th>\n",
       "      <th>min_hum</th>\n",
       "      <th>max_hea</th>\n",
       "      <th>Month</th>\n",
       "    </tr>\n",
       "  </thead>\n",
       "  <tbody>\n",
       "    <tr>\n",
       "      <th>0</th>\n",
       "      <td>2009-01-01</td>\n",
       "      <td>37.8</td>\n",
       "      <td>35.0</td>\n",
       "      <td>12.7</td>\n",
       "      <td>40.0</td>\n",
       "      <td>34.0</td>\n",
       "      <td>4.0</td>\n",
       "      <td>27.0</td>\n",
       "      <td>40.0</td>\n",
       "      <td>1</td>\n",
       "    </tr>\n",
       "    <tr>\n",
       "      <th>1</th>\n",
       "      <td>2009-01-02</td>\n",
       "      <td>43.2</td>\n",
       "      <td>32.0</td>\n",
       "      <td>14.7</td>\n",
       "      <td>52.0</td>\n",
       "      <td>37.0</td>\n",
       "      <td>4.0</td>\n",
       "      <td>16.0</td>\n",
       "      <td>52.0</td>\n",
       "      <td>1</td>\n",
       "    </tr>\n",
       "    <tr>\n",
       "      <th>2</th>\n",
       "      <td>2009-01-03</td>\n",
       "      <td>25.7</td>\n",
       "      <td>60.0</td>\n",
       "      <td>12.7</td>\n",
       "      <td>41.0</td>\n",
       "      <td>6.0</td>\n",
       "      <td>8.0</td>\n",
       "      <td>35.0</td>\n",
       "      <td>41.0</td>\n",
       "      <td>1</td>\n",
       "    </tr>\n",
       "    <tr>\n",
       "      <th>3</th>\n",
       "      <td>2009-01-04</td>\n",
       "      <td>9.3</td>\n",
       "      <td>67.0</td>\n",
       "      <td>0.1</td>\n",
       "      <td>19.0</td>\n",
       "      <td>-0.0</td>\n",
       "      <td>7.0</td>\n",
       "      <td>35.0</td>\n",
       "      <td>32.0</td>\n",
       "      <td>1</td>\n",
       "    </tr>\n",
       "    <tr>\n",
       "      <th>4</th>\n",
       "      <td>2009-01-05</td>\n",
       "      <td>23.5</td>\n",
       "      <td>30.0</td>\n",
       "      <td>-5.3</td>\n",
       "      <td>30.0</td>\n",
       "      <td>15.0</td>\n",
       "      <td>5.0</td>\n",
       "      <td>13.0</td>\n",
       "      <td>32.0</td>\n",
       "      <td>1</td>\n",
       "    </tr>\n",
       "  </tbody>\n",
       "</table>\n",
       "</div>"
      ],
      "text/plain": [
       "         Date  avg_tem  avg_hum  avg_dew  max_tem  min_tem  max_hum  min_hum  \\\n",
       "0  2009-01-01     37.8     35.0     12.7     40.0     34.0      4.0     27.0   \n",
       "1  2009-01-02     43.2     32.0     14.7     52.0     37.0      4.0     16.0   \n",
       "2  2009-01-03     25.7     60.0     12.7     41.0      6.0      8.0     35.0   \n",
       "3  2009-01-04      9.3     67.0      0.1     19.0     -0.0      7.0     35.0   \n",
       "4  2009-01-05     23.5     30.0     -5.3     30.0     15.0      5.0     13.0   \n",
       "\n",
       "   max_hea  Month  \n",
       "0     40.0      1  \n",
       "1     52.0      1  \n",
       "2     41.0      1  \n",
       "3     32.0      1  \n",
       "4     32.0      1  "
      ]
     },
     "execution_count": null,
     "metadata": {},
     "output_type": "execute_result"
    }
   ],
   "source": [
    "df_2 = df_2.drop(['rfm','rfy', 'Date1','avg_bar','avg_win','avg_gus','avg_dir','max_rai','max_pre','min_pre','max_win','dif_p','max_gus'], axis=1).dropna(axis=0)\n",
    "df_2.head()"
   ]
  },
  {
   "cell_type": "markdown",
   "metadata": {},
   "source": [
    "Now, to analyze avgerage dewpoint according to dates easier, I want to update the date to datetime object"
   ]
  },
  {
   "cell_type": "code",
   "execution_count": null,
   "metadata": {},
   "outputs": [
    {
     "name": "stdout",
     "output_type": "stream",
     "text": [
      "The type of date is now <class 'datetime.date'>\n"
     ]
    }
   ],
   "source": [
    "df_2['Date'] = df.apply(lambda x: pd.to_datetime(x.Date).date(), axis=1)\n",
    "print('The type of date is now',type(df_2['Date'][0]))"
   ]
  },
  {
   "cell_type": "markdown",
   "metadata": {},
   "source": [
    "You can now see that the Data is updated, and it is now with all I need."
   ]
  },
  {
   "cell_type": "markdown",
   "metadata": {},
   "source": [
    "## Method Chaining"
   ]
  },
  {
   "cell_type": "markdown",
   "metadata": {},
   "source": [
    "Start by removing all the redundant variables and load the dataset again"
   ]
  },
  {
   "cell_type": "code",
   "execution_count": null,
   "metadata": {},
   "outputs": [],
   "source": [
    "reset -f"
   ]
  },
  {
   "cell_type": "code",
   "execution_count": null,
   "metadata": {},
   "outputs": [],
   "source": [
    "import pandas as pd\n",
    "import numpy as np\n",
    "import matplotlib.pyplot as plt\n",
    "import seaborn as sns\n",
    "import project_functions1 as pf1"
   ]
  },
  {
   "cell_type": "code",
   "execution_count": null,
   "metadata": {},
   "outputs": [],
   "source": [
    "path = '../data/raw/climate_data.csv'"
   ]
  },
  {
   "cell_type": "code",
   "execution_count": null,
   "metadata": {},
   "outputs": [
    {
     "data": {
      "text/html": [
       "<div>\n",
       "<style scoped>\n",
       "    .dataframe tbody tr th:only-of-type {\n",
       "        vertical-align: middle;\n",
       "    }\n",
       "\n",
       "    .dataframe tbody tr th {\n",
       "        vertical-align: top;\n",
       "    }\n",
       "\n",
       "    .dataframe thead th {\n",
       "        text-align: right;\n",
       "    }\n",
       "</style>\n",
       "<table border=\"1\" class=\"dataframe\">\n",
       "  <thead>\n",
       "    <tr style=\"text-align: right;\">\n",
       "      <th></th>\n",
       "      <th>Date</th>\n",
       "      <th>avg_tem</th>\n",
       "      <th>avg_hum</th>\n",
       "      <th>avg_dew</th>\n",
       "      <th>max_tem</th>\n",
       "      <th>min_tem</th>\n",
       "      <th>max_hum</th>\n",
       "      <th>min_hum</th>\n",
       "      <th>max_hea</th>\n",
       "      <th>Month</th>\n",
       "    </tr>\n",
       "  </thead>\n",
       "  <tbody>\n",
       "    <tr>\n",
       "      <th>0</th>\n",
       "      <td>2009-01-01</td>\n",
       "      <td>37.8</td>\n",
       "      <td>35.0</td>\n",
       "      <td>12.7</td>\n",
       "      <td>40.0</td>\n",
       "      <td>34.0</td>\n",
       "      <td>4.0</td>\n",
       "      <td>27.0</td>\n",
       "      <td>40.0</td>\n",
       "      <td>1</td>\n",
       "    </tr>\n",
       "    <tr>\n",
       "      <th>1</th>\n",
       "      <td>2009-01-02</td>\n",
       "      <td>43.2</td>\n",
       "      <td>32.0</td>\n",
       "      <td>14.7</td>\n",
       "      <td>52.0</td>\n",
       "      <td>37.0</td>\n",
       "      <td>4.0</td>\n",
       "      <td>16.0</td>\n",
       "      <td>52.0</td>\n",
       "      <td>1</td>\n",
       "    </tr>\n",
       "    <tr>\n",
       "      <th>2</th>\n",
       "      <td>2009-01-03</td>\n",
       "      <td>25.7</td>\n",
       "      <td>60.0</td>\n",
       "      <td>12.7</td>\n",
       "      <td>41.0</td>\n",
       "      <td>6.0</td>\n",
       "      <td>8.0</td>\n",
       "      <td>35.0</td>\n",
       "      <td>41.0</td>\n",
       "      <td>1</td>\n",
       "    </tr>\n",
       "    <tr>\n",
       "      <th>3</th>\n",
       "      <td>2009-01-04</td>\n",
       "      <td>9.3</td>\n",
       "      <td>67.0</td>\n",
       "      <td>0.1</td>\n",
       "      <td>19.0</td>\n",
       "      <td>-0.0</td>\n",
       "      <td>7.0</td>\n",
       "      <td>35.0</td>\n",
       "      <td>32.0</td>\n",
       "      <td>1</td>\n",
       "    </tr>\n",
       "    <tr>\n",
       "      <th>4</th>\n",
       "      <td>2009-01-05</td>\n",
       "      <td>23.5</td>\n",
       "      <td>30.0</td>\n",
       "      <td>-5.3</td>\n",
       "      <td>30.0</td>\n",
       "      <td>15.0</td>\n",
       "      <td>5.0</td>\n",
       "      <td>13.0</td>\n",
       "      <td>32.0</td>\n",
       "      <td>1</td>\n",
       "    </tr>\n",
       "  </tbody>\n",
       "</table>\n",
       "</div>"
      ],
      "text/plain": [
       "         Date  avg_tem  avg_hum  avg_dew  max_tem  min_tem  max_hum  min_hum  \\\n",
       "0  2009-01-01     37.8     35.0     12.7     40.0     34.0      4.0     27.0   \n",
       "1  2009-01-02     43.2     32.0     14.7     52.0     37.0      4.0     16.0   \n",
       "2  2009-01-03     25.7     60.0     12.7     41.0      6.0      8.0     35.0   \n",
       "3  2009-01-04      9.3     67.0      0.1     19.0     -0.0      7.0     35.0   \n",
       "4  2009-01-05     23.5     30.0     -5.3     30.0     15.0      5.0     13.0   \n",
       "\n",
       "   max_hea  Month  \n",
       "0     40.0      1  \n",
       "1     52.0      1  \n",
       "2     41.0      1  \n",
       "3     32.0      1  \n",
       "4     32.0      1  "
      ]
     },
     "execution_count": null,
     "metadata": {},
     "output_type": "execute_result"
    }
   ],
   "source": [
    "df_3 = pf1.load_and_process(path)\n",
    "df_3.head()"
   ]
  },
  {
   "cell_type": "code",
   "execution_count": null,
   "metadata": {},
   "outputs": [
    {
     "data": {
      "text/plain": [
       "datetime.date"
      ]
     },
     "execution_count": null,
     "metadata": {},
     "output_type": "execute_result"
    }
   ],
   "source": [
    "type(df_3[\"Date\"][0])"
   ]
  },
  {
   "cell_type": "markdown",
   "metadata": {},
   "source": [
    "All done! The data set is ready to go."
   ]
  },
  {
   "cell_type": "code",
   "execution_count": null,
   "metadata": {},
   "outputs": [],
   "source": []
  }
 ],
 "metadata": {
  "kernelspec": {
   "display_name": "Python 3 (ipykernel)",
   "language": "python",
   "name": "python3"
  }
 },
 "nbformat": 4,
 "nbformat_minor": 4
}
